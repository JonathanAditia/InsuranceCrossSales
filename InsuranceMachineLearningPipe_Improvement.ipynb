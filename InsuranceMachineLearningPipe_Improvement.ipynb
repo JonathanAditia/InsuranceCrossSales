{
 "cells": [
  {
   "cell_type": "markdown",
   "metadata": {},
   "source": [
    "**Machine Learning**\n",
    "\n",
    "- Classify the response based on the applicant characteristics\n",
    "\n",
    "**Conclusion**\n",
    "\n",
    "- Logistic Regression tuned is very good for insurance classifier to reach maximum potential clients but still maintaining costs\n",
    "- Random Forest Classifier tuned is very good for insurance classifier based on cost effective"
   ]
  },
  {
   "cell_type": "code",
   "execution_count": 1,
   "metadata": {},
   "outputs": [],
   "source": [
    "import pandas as pd\n",
    "import numpy as np\n",
    "import matplotlib.pyplot as plt\n",
    "import seaborn as sns\n",
    "import warnings\n",
    "warnings.filterwarnings('ignore')\n",
    "\n",
    "%matplotlib inline"
   ]
  },
  {
   "cell_type": "code",
   "execution_count": 2,
   "metadata": {
    "scrolled": true
   },
   "outputs": [
    {
     "data": {
      "text/html": [
       "<div>\n",
       "<style scoped>\n",
       "    .dataframe tbody tr th:only-of-type {\n",
       "        vertical-align: middle;\n",
       "    }\n",
       "\n",
       "    .dataframe tbody tr th {\n",
       "        vertical-align: top;\n",
       "    }\n",
       "\n",
       "    .dataframe thead th {\n",
       "        text-align: right;\n",
       "    }\n",
       "</style>\n",
       "<table border=\"1\" class=\"dataframe\">\n",
       "  <thead>\n",
       "    <tr style=\"text-align: right;\">\n",
       "      <th></th>\n",
       "      <th>id</th>\n",
       "      <th>Gender</th>\n",
       "      <th>Age</th>\n",
       "      <th>Driving_License</th>\n",
       "      <th>Region_Code</th>\n",
       "      <th>Previously_Insured</th>\n",
       "      <th>Vehicle_Age</th>\n",
       "      <th>Vehicle_Damage</th>\n",
       "      <th>Annual_Premium</th>\n",
       "      <th>Policy_Sales_Channel</th>\n",
       "      <th>Vintage</th>\n",
       "      <th>Response</th>\n",
       "    </tr>\n",
       "  </thead>\n",
       "  <tbody>\n",
       "    <tr>\n",
       "      <th>0</th>\n",
       "      <td>1</td>\n",
       "      <td>Male</td>\n",
       "      <td>44</td>\n",
       "      <td>1</td>\n",
       "      <td>28.0</td>\n",
       "      <td>0</td>\n",
       "      <td>&gt; 2 Years</td>\n",
       "      <td>Yes</td>\n",
       "      <td>40454.0</td>\n",
       "      <td>26.0</td>\n",
       "      <td>217</td>\n",
       "      <td>1</td>\n",
       "    </tr>\n",
       "    <tr>\n",
       "      <th>1</th>\n",
       "      <td>2</td>\n",
       "      <td>Male</td>\n",
       "      <td>76</td>\n",
       "      <td>1</td>\n",
       "      <td>3.0</td>\n",
       "      <td>0</td>\n",
       "      <td>1-2 Year</td>\n",
       "      <td>No</td>\n",
       "      <td>33536.0</td>\n",
       "      <td>26.0</td>\n",
       "      <td>183</td>\n",
       "      <td>0</td>\n",
       "    </tr>\n",
       "    <tr>\n",
       "      <th>2</th>\n",
       "      <td>3</td>\n",
       "      <td>Male</td>\n",
       "      <td>47</td>\n",
       "      <td>1</td>\n",
       "      <td>28.0</td>\n",
       "      <td>0</td>\n",
       "      <td>&gt; 2 Years</td>\n",
       "      <td>Yes</td>\n",
       "      <td>38294.0</td>\n",
       "      <td>26.0</td>\n",
       "      <td>27</td>\n",
       "      <td>1</td>\n",
       "    </tr>\n",
       "    <tr>\n",
       "      <th>3</th>\n",
       "      <td>4</td>\n",
       "      <td>Male</td>\n",
       "      <td>21</td>\n",
       "      <td>1</td>\n",
       "      <td>11.0</td>\n",
       "      <td>1</td>\n",
       "      <td>&lt; 1 Year</td>\n",
       "      <td>No</td>\n",
       "      <td>28619.0</td>\n",
       "      <td>152.0</td>\n",
       "      <td>203</td>\n",
       "      <td>0</td>\n",
       "    </tr>\n",
       "    <tr>\n",
       "      <th>4</th>\n",
       "      <td>5</td>\n",
       "      <td>Female</td>\n",
       "      <td>29</td>\n",
       "      <td>1</td>\n",
       "      <td>41.0</td>\n",
       "      <td>1</td>\n",
       "      <td>&lt; 1 Year</td>\n",
       "      <td>No</td>\n",
       "      <td>27496.0</td>\n",
       "      <td>152.0</td>\n",
       "      <td>39</td>\n",
       "      <td>0</td>\n",
       "    </tr>\n",
       "  </tbody>\n",
       "</table>\n",
       "</div>"
      ],
      "text/plain": [
       "   id  Gender  Age  Driving_License  Region_Code  Previously_Insured  \\\n",
       "0   1    Male   44                1         28.0                   0   \n",
       "1   2    Male   76                1          3.0                   0   \n",
       "2   3    Male   47                1         28.0                   0   \n",
       "3   4    Male   21                1         11.0                   1   \n",
       "4   5  Female   29                1         41.0                   1   \n",
       "\n",
       "  Vehicle_Age Vehicle_Damage  Annual_Premium  Policy_Sales_Channel  Vintage  \\\n",
       "0   > 2 Years            Yes         40454.0                  26.0      217   \n",
       "1    1-2 Year             No         33536.0                  26.0      183   \n",
       "2   > 2 Years            Yes         38294.0                  26.0       27   \n",
       "3    < 1 Year             No         28619.0                 152.0      203   \n",
       "4    < 1 Year             No         27496.0                 152.0       39   \n",
       "\n",
       "   Response  \n",
       "0         1  \n",
       "1         0  \n",
       "2         1  \n",
       "3         0  \n",
       "4         0  "
      ]
     },
     "execution_count": 2,
     "metadata": {},
     "output_type": "execute_result"
    }
   ],
   "source": [
    "df = pd.read_csv('train.csv')\n",
    "df.head()"
   ]
  },
  {
   "cell_type": "code",
   "execution_count": 3,
   "metadata": {},
   "outputs": [],
   "source": [
    "df = df.drop(columns=['id','Policy_Sales_Channel','Region_Code'])"
   ]
  },
  {
   "cell_type": "markdown",
   "metadata": {},
   "source": [
    "**Splitting Imbalance Data**"
   ]
  },
  {
   "cell_type": "code",
   "execution_count": 4,
   "metadata": {},
   "outputs": [],
   "source": [
    "from sklearn.model_selection import train_test_split"
   ]
  },
  {
   "cell_type": "code",
   "execution_count": 5,
   "metadata": {},
   "outputs": [],
   "source": [
    "X = df.drop(columns='Response')\n",
    "y = df['Response']\n",
    "\n",
    "X_train, X_test, y_train, y_test = train_test_split(X, y, train_size = .90, stratify = y,random_state = 42)"
   ]
  },
  {
   "cell_type": "markdown",
   "metadata": {},
   "source": [
    "**Checking Imbalance Dataset**"
   ]
  },
  {
   "cell_type": "code",
   "execution_count": 6,
   "metadata": {},
   "outputs": [],
   "source": [
    "df_train = pd.concat([X_train, y_train], axis=1)"
   ]
  },
  {
   "cell_type": "code",
   "execution_count": 7,
   "metadata": {},
   "outputs": [
    {
     "data": {
      "text/plain": [
       "0    300959\n",
       "1     42039\n",
       "Name: Response, dtype: int64"
      ]
     },
     "execution_count": 7,
     "metadata": {},
     "output_type": "execute_result"
    }
   ],
   "source": [
    "df_train['Response'].value_counts()"
   ]
  },
  {
   "cell_type": "markdown",
   "metadata": {},
   "source": [
    "**Over Sampled**"
   ]
  },
  {
   "cell_type": "code",
   "execution_count": 8,
   "metadata": {},
   "outputs": [],
   "source": [
    "from sklearn.utils import resample"
   ]
  },
  {
   "cell_type": "code",
   "execution_count": 9,
   "metadata": {},
   "outputs": [],
   "source": [
    "response_no = df_train[df_train['Response'] == 0]\n",
    "response_yes = df_train[df_train['Response'] == 1]\n",
    "\n",
    "response_undersample = resample(response_no,\n",
    "                           replace=True,\n",
    "                           n_samples = len(response_yes),\n",
    "                           random_state = 42)"
   ]
  },
  {
   "cell_type": "code",
   "execution_count": 10,
   "metadata": {},
   "outputs": [
    {
     "data": {
      "text/plain": [
       "1    42039\n",
       "0    42039\n",
       "Name: Response, dtype: int64"
      ]
     },
     "execution_count": 10,
     "metadata": {},
     "output_type": "execute_result"
    }
   ],
   "source": [
    "df_UnderSampled = pd.concat([response_undersample, response_yes])\n",
    "\n",
    "df_UnderSampled['Response'].value_counts()"
   ]
  },
  {
   "cell_type": "code",
   "execution_count": 11,
   "metadata": {},
   "outputs": [],
   "source": [
    "df = df_UnderSampled"
   ]
  },
  {
   "cell_type": "markdown",
   "metadata": {},
   "source": [
    "**Machine Learning Preprocessing**"
   ]
  },
  {
   "cell_type": "code",
   "execution_count": 12,
   "metadata": {},
   "outputs": [],
   "source": [
    "X_train = df.drop(columns='Response')\n",
    "y_train = df['Response']"
   ]
  },
  {
   "cell_type": "markdown",
   "metadata": {},
   "source": [
    "**Machine Learning**"
   ]
  },
  {
   "cell_type": "code",
   "execution_count": 13,
   "metadata": {},
   "outputs": [],
   "source": [
    "from sklearn.pipeline import Pipeline\n",
    "from sklearn.impute import SimpleImputer\n",
    "from sklearn.preprocessing import OneHotEncoder, LabelEncoder, MinMaxScaler, StandardScaler, RobustScaler\n",
    "from sklearn.linear_model import LogisticRegression\n",
    "from sklearn.neighbors import KNeighborsClassifier\n",
    "from sklearn.ensemble import RandomForestClassifier\n",
    "from sklearn.svm import SVC\n",
    "from sklearn.compose import ColumnTransformer\n",
    "from sklearn.metrics import classification_report, confusion_matrix, recall_score, precision_score, f1_score, accuracy_score"
   ]
  },
  {
   "cell_type": "code",
   "execution_count": 14,
   "metadata": {},
   "outputs": [],
   "source": [
    "cat_columns = [\"Gender\", \"Vehicle_Age\", \"Vehicle_Damage\"]\n",
    "\n",
    "num_columns = [\"Age\", \"Driving_License\", \"Previously_Insured\", \"Annual_Premium\", \"Vintage\"]"
   ]
  },
  {
   "cell_type": "code",
   "execution_count": 15,
   "metadata": {},
   "outputs": [],
   "source": [
    "numerical_pipeline = Pipeline([\n",
    "    ('imputer', SimpleImputer(strategy='mean')),\n",
    "    ('scaler', RobustScaler())\n",
    "])\n",
    "\n",
    "categorical_pipeline = Pipeline([\n",
    "    ('imputer', SimpleImputer(strategy='most_frequent')),\n",
    "    ('encoder', OneHotEncoder())\n",
    "])\n",
    "\n",
    "preprocessor = ColumnTransformer([\n",
    "    ('numeric', numerical_pipeline, num_columns),\n",
    "    ('categorical', categorical_pipeline, cat_columns)\n",
    "])"
   ]
  },
  {
   "cell_type": "code",
   "execution_count": 16,
   "metadata": {},
   "outputs": [],
   "source": [
    "pipe_Log = Pipeline([\n",
    "    (\"prep\", preprocessor),\n",
    "    (\"algo\", LogisticRegression())\n",
    "])\n",
    "\n",
    "pipe_KNN = Pipeline([\n",
    "    (\"prep\", preprocessor),\n",
    "    (\"algo\", KNeighborsClassifier())\n",
    "])"
   ]
  },
  {
   "cell_type": "code",
   "execution_count": 17,
   "metadata": {},
   "outputs": [],
   "source": [
    "pipe_RF = Pipeline([\n",
    "    (\"prep\", preprocessor),\n",
    "    (\"algo\", RandomForestClassifier())\n",
    "])\n",
    "\n",
    "pipe_SVC = Pipeline([\n",
    "    (\"prep\", preprocessor),\n",
    "    (\"algo\", SVC(max_iter = 10))\n",
    "])"
   ]
  },
  {
   "cell_type": "code",
   "execution_count": 18,
   "metadata": {
    "scrolled": true
   },
   "outputs": [
    {
     "data": {
      "text/plain": [
       "Pipeline(steps=[('prep',\n",
       "                 ColumnTransformer(transformers=[('numeric',\n",
       "                                                  Pipeline(steps=[('imputer',\n",
       "                                                                   SimpleImputer()),\n",
       "                                                                  ('scaler',\n",
       "                                                                   RobustScaler())]),\n",
       "                                                  ['Age', 'Driving_License',\n",
       "                                                   'Previously_Insured',\n",
       "                                                   'Annual_Premium',\n",
       "                                                   'Vintage']),\n",
       "                                                 ('categorical',\n",
       "                                                  Pipeline(steps=[('imputer',\n",
       "                                                                   SimpleImputer(strategy='most_frequent')),\n",
       "                                                                  ('encoder',\n",
       "                                                                   OneHotEncoder())]),\n",
       "                                                  ['Gender', 'Vehicle_Age',\n",
       "                                                   'Vehicle_Damage'])])),\n",
       "                ('algo', SVC(max_iter=10))])"
      ]
     },
     "execution_count": 18,
     "metadata": {},
     "output_type": "execute_result"
    }
   ],
   "source": [
    "pipe_Log.fit(X_train, y_train)\n",
    "pipe_KNN.fit(X_train, y_train)\n",
    "pipe_RF.fit(X_train, y_train)\n",
    "pipe_SVC.fit(X_train, y_train)"
   ]
  },
  {
   "cell_type": "code",
   "execution_count": 19,
   "metadata": {},
   "outputs": [],
   "source": [
    "y_pred_Logtr = pipe_Log.predict(X_train)\n",
    "acc_Logtr = accuracy_score(y_train, y_pred_Logtr)\n",
    "prec_Logtr = precision_score(y_train, y_pred_Logtr)\n",
    "rec0_Logtr = recall_score (y_train, y_pred_Logtr, pos_label=0)\n",
    "rec1_Logtr = recall_score(y_train, y_pred_Logtr, pos_label=1)\n",
    "f1_Logtr = f1_score(y_train, y_pred_Logtr)\n",
    "\n",
    "y_pred_KNNtr = pipe_KNN.predict(X_train)\n",
    "acc_KNNtr = accuracy_score(y_train, y_pred_KNNtr)\n",
    "prec_KNNtr = precision_score(y_train, y_pred_KNNtr)\n",
    "rec0_KNNtr = recall_score (y_train, y_pred_KNNtr, pos_label=0)\n",
    "rec1_KNNtr = recall_score(y_train, y_pred_KNNtr, pos_label=1)\n",
    "f1_KNNtr = f1_score(y_train, y_pred_KNNtr)\n",
    "\n",
    "y_pred_RFtr = pipe_RF.predict(X_train)\n",
    "acc_RFtr = accuracy_score(y_train, y_pred_RFtr)\n",
    "prec_RFtr = precision_score(y_train, y_pred_RFtr)\n",
    "rec0_RFtr = recall_score (y_train, y_pred_RFtr, pos_label=0)\n",
    "rec1_RFtr = recall_score(y_train, y_pred_RFtr, pos_label=1)\n",
    "f1_RFtr = f1_score(y_train, y_pred_RFtr)\n",
    "\n",
    "y_pred_SVCtr = pipe_SVC.predict(X_train)\n",
    "acc_SVCtr = accuracy_score(y_train, y_pred_SVCtr)\n",
    "prec_SVCtr = precision_score(y_train, y_pred_SVCtr)\n",
    "rec0_SVCtr = recall_score (y_train, y_pred_SVCtr, pos_label=0)\n",
    "rec1_SVCtr = recall_score(y_train, y_pred_SVCtr, pos_label=1)\n",
    "f1_SVCtr = f1_score(y_train, y_pred_SVCtr)\n",
    "\n",
    "\n",
    "y_pred_Logts = pipe_Log.predict(X_test)\n",
    "acc_Logts = accuracy_score(y_test, y_pred_Logts)\n",
    "prec_Logts = precision_score(y_test, y_pred_Logts)\n",
    "rec0_Logts = recall_score (y_test, y_pred_Logts, pos_label=0)\n",
    "rec1_Logts = recall_score(y_test, y_pred_Logts, pos_label=1)\n",
    "f1_Logts = f1_score(y_test, y_pred_Logts)\n",
    "\n",
    "y_pred_KNNts = pipe_KNN.predict(X_test)\n",
    "acc_KNNts = accuracy_score(y_test, y_pred_KNNts)\n",
    "prec_KNNts = precision_score(y_test, y_pred_KNNts)\n",
    "rec0_KNNts = recall_score (y_test, y_pred_KNNts, pos_label=0)\n",
    "rec1_KNNts = recall_score(y_test, y_pred_KNNts, pos_label=1)\n",
    "f1_KNNts = f1_score(y_test, y_pred_KNNts)\n",
    "\n",
    "y_pred_RFts = pipe_RF.predict(X_test)\n",
    "acc_RFts = accuracy_score(y_test, y_pred_RFts)\n",
    "prec_RFts = precision_score(y_test, y_pred_RFts)\n",
    "rec0_RFts = recall_score (y_test, y_pred_RFts, pos_label=0)\n",
    "rec1_RFts = recall_score(y_test, y_pred_RFts, pos_label=1)\n",
    "f1_RFts = f1_score(y_test, y_pred_RFts)\n",
    "\n",
    "y_pred_SVCts = pipe_SVC.predict(X_test)\n",
    "acc_SVCts = accuracy_score(y_test, y_pred_SVCts)\n",
    "prec_SVCts = precision_score(y_test, y_pred_SVCts)\n",
    "rec0_SVCts = recall_score (y_test, y_pred_SVCts, pos_label=0)\n",
    "rec1_SVCts = recall_score(y_test, y_pred_SVCts, pos_label=1)\n",
    "f1_SVCts = f1_score(y_test, y_pred_SVCts)"
   ]
  },
  {
   "cell_type": "code",
   "execution_count": 20,
   "metadata": {},
   "outputs": [
    {
     "data": {
      "text/html": [
       "<div>\n",
       "<style scoped>\n",
       "    .dataframe tbody tr th:only-of-type {\n",
       "        vertical-align: middle;\n",
       "    }\n",
       "\n",
       "    .dataframe tbody tr th {\n",
       "        vertical-align: top;\n",
       "    }\n",
       "\n",
       "    .dataframe thead th {\n",
       "        text-align: right;\n",
       "    }\n",
       "</style>\n",
       "<table border=\"1\" class=\"dataframe\">\n",
       "  <thead>\n",
       "    <tr style=\"text-align: right;\">\n",
       "      <th></th>\n",
       "      <th>LogReg Train</th>\n",
       "      <th>LogReg Test</th>\n",
       "      <th>KNN Train</th>\n",
       "      <th>KNN Test</th>\n",
       "      <th>RF Train</th>\n",
       "      <th>RF Test</th>\n",
       "      <th>SVC Train</th>\n",
       "      <th>SVC Test</th>\n",
       "    </tr>\n",
       "  </thead>\n",
       "  <tbody>\n",
       "    <tr>\n",
       "      <th>Accuracy</th>\n",
       "      <td>0.781774</td>\n",
       "      <td>0.642492</td>\n",
       "      <td>0.830990</td>\n",
       "      <td>0.707565</td>\n",
       "      <td>0.993149</td>\n",
       "      <td>0.704993</td>\n",
       "      <td>0.551024</td>\n",
       "      <td>0.841594</td>\n",
       "    </tr>\n",
       "    <tr>\n",
       "      <th>Precision</th>\n",
       "      <td>0.703555</td>\n",
       "      <td>0.252214</td>\n",
       "      <td>0.792955</td>\n",
       "      <td>0.272523</td>\n",
       "      <td>0.990675</td>\n",
       "      <td>0.270306</td>\n",
       "      <td>0.726744</td>\n",
       "      <td>0.260687</td>\n",
       "    </tr>\n",
       "    <tr>\n",
       "      <th>Recall</th>\n",
       "      <td>0.973905</td>\n",
       "      <td>0.975594</td>\n",
       "      <td>0.895906</td>\n",
       "      <td>0.830229</td>\n",
       "      <td>0.995671</td>\n",
       "      <td>0.827874</td>\n",
       "      <td>0.163539</td>\n",
       "      <td>0.159281</td>\n",
       "    </tr>\n",
       "    <tr>\n",
       "      <th>F1 Score</th>\n",
       "      <td>0.816945</td>\n",
       "      <td>0.400809</td>\n",
       "      <td>0.841293</td>\n",
       "      <td>0.410349</td>\n",
       "      <td>0.993166</td>\n",
       "      <td>0.407546</td>\n",
       "      <td>0.266995</td>\n",
       "      <td>0.197741</td>\n",
       "    </tr>\n",
       "  </tbody>\n",
       "</table>\n",
       "</div>"
      ],
      "text/plain": [
       "           LogReg Train  LogReg Test  KNN Train  KNN Test  RF Train   RF Test  \\\n",
       "Accuracy       0.781774     0.642492   0.830990  0.707565  0.993149  0.704993   \n",
       "Precision      0.703555     0.252214   0.792955  0.272523  0.990675  0.270306   \n",
       "Recall         0.973905     0.975594   0.895906  0.830229  0.995671  0.827874   \n",
       "F1 Score       0.816945     0.400809   0.841293  0.410349  0.993166  0.407546   \n",
       "\n",
       "           SVC Train  SVC Test  \n",
       "Accuracy    0.551024  0.841594  \n",
       "Precision   0.726744  0.260687  \n",
       "Recall      0.163539  0.159281  \n",
       "F1 Score    0.266995  0.197741  "
      ]
     },
     "execution_count": 20,
     "metadata": {},
     "output_type": "execute_result"
    }
   ],
   "source": [
    "data = {\n",
    "    \"LogReg Train\" : [acc_Logtr, prec_Logtr, rec1_Logtr, f1_Logtr],\n",
    "    \"LogReg Test\" : [acc_Logts, prec_Logts, rec1_Logts, f1_Logts],\n",
    "    \"KNN Train\" : [acc_KNNtr, prec_KNNtr, rec1_KNNtr, f1_KNNtr],\n",
    "    \"KNN Test\" : [acc_KNNts, prec_KNNts, rec1_KNNts, f1_KNNts],\n",
    "    \"RF Train\" : [acc_RFtr, prec_RFtr, rec1_RFtr, f1_RFtr],\n",
    "    \"RF Test\" : [acc_RFts, prec_RFts, rec1_RFts, f1_RFts],\n",
    "    \"SVC Train\" : [acc_SVCtr, prec_SVCtr, rec1_SVCtr, f1_SVCtr],\n",
    "    \"SVC Test\" : [acc_SVCts, prec_SVCts, rec1_SVCts, f1_SVCts]\n",
    "}\n",
    "pd.DataFrame(data=data, index=['Accuracy', 'Precision', 'Recall', 'F1 Score'])"
   ]
  },
  {
   "cell_type": "markdown",
   "metadata": {},
   "source": [
    "**Hyperparameter Tuning**"
   ]
  },
  {
   "cell_type": "markdown",
   "metadata": {},
   "source": [
    "Parameter"
   ]
  },
  {
   "cell_type": "code",
   "execution_count": 21,
   "metadata": {},
   "outputs": [],
   "source": [
    "Param_Log = {\n",
    "    \"algo__penalty\" : [\"l1\",\"l2\",\"elasticnet\",\"none\"],\n",
    "    \"algo__class_weight\" : [dict, \"balanced\"],\n",
    "    \"algo__max_iter\" : [10,100,500],\n",
    "    \"algo__intercept_scaling\" : [1,5,10]\n",
    "}\n",
    "\n",
    "Param_KNN = {\n",
    "    \"algo__n_neighbors\" : [1,3,5],\n",
    "    \"algo__weights\" : [\"distance\",\"uniform\"],\n",
    "    \"algo__leaf_size\" : [1,5,15]\n",
    "}\n",
    "\n",
    "Param_RF = {\n",
    "    \"algo__n_estimators\" : [50,300],\n",
    "     #\"max_depth\" : [8],\n",
    "     \"algo__min_samples_split\" : [2,5],\n",
    "     \"algo__min_samples_leaf\" : [1,2]\n",
    "}\n",
    "\n",
    "Param_SVC = {\n",
    "    \"algo__max_iter\" : [10,100],\n",
    "    \"algo__kernel\" : ['poly', 'rbf', 'sigmoid']\n",
    "}"
   ]
  },
  {
   "cell_type": "code",
   "execution_count": 22,
   "metadata": {},
   "outputs": [],
   "source": [
    "# pipe_Log.get_params()\n",
    "# pipe_KNN.get_params()\n",
    "# pipe_RF.get_params()\n",
    "# pipe_SVC.get_params()"
   ]
  },
  {
   "cell_type": "code",
   "execution_count": 23,
   "metadata": {},
   "outputs": [],
   "source": [
    "from sklearn.model_selection import GridSearchCV"
   ]
  },
  {
   "cell_type": "markdown",
   "metadata": {},
   "source": [
    "**Logistic Regression Tuning**"
   ]
  },
  {
   "cell_type": "code",
   "execution_count": 24,
   "metadata": {},
   "outputs": [
    {
     "name": "stdout",
     "output_type": "stream",
     "text": [
      "Fitting 3 folds for each of 72 candidates, totalling 216 fits\n"
     ]
    },
    {
     "name": "stderr",
     "output_type": "stream",
     "text": [
      "[Parallel(n_jobs=-1)]: Using backend LokyBackend with 6 concurrent workers.\n",
      "[Parallel(n_jobs=-1)]: Done  38 tasks      | elapsed:   11.1s\n",
      "[Parallel(n_jobs=-1)]: Done 188 tasks      | elapsed:   49.1s\n",
      "[Parallel(n_jobs=-1)]: Done 216 out of 216 | elapsed:   55.9s finished\n"
     ]
    },
    {
     "name": "stdout",
     "output_type": "stream",
     "text": [
      "Best Score : 0.7817383857846286\n",
      "Tuned recall LogReg Tuned Train :  0.7817740669378435\n",
      "Tuned recall LogReg Tuned Test :  0.6424916690719215\n"
     ]
    }
   ],
   "source": [
    "model_tuned_1 = GridSearchCV(estimator=pipe_Log, param_grid=Param_Log, cv = 3, n_jobs=-1, verbose=1)\n",
    "\n",
    "model_tuned_1.fit(X_train, y_train)\n",
    "model_tuned_1.best_score_\n",
    "model_tuned_1_1 = model_tuned_1.best_estimator_\n",
    "y_tune_1_train = model_tuned_1_1.predict(X_train)\n",
    "y_tune_1_test = model_tuned_1_1.predict(X_test)\n",
    "\n",
    "print('Best Score :',model_tuned_1.best_score_)\n",
    "print('Tuned recall LogReg Tuned Train : ', recall_score(y_train, y_tune_1_train, average=\"weighted\"))\n",
    "print('Tuned recall LogReg Tuned Test : ', recall_score(y_test, y_tune_1_test, average=\"weighted\"))"
   ]
  },
  {
   "cell_type": "markdown",
   "metadata": {},
   "source": [
    "**KNN Tuning**"
   ]
  },
  {
   "cell_type": "code",
   "execution_count": 25,
   "metadata": {},
   "outputs": [
    {
     "name": "stdout",
     "output_type": "stream",
     "text": [
      "Fitting 3 folds for each of 18 candidates, totalling 54 fits\n"
     ]
    },
    {
     "name": "stderr",
     "output_type": "stream",
     "text": [
      "[Parallel(n_jobs=-1)]: Using backend LokyBackend with 6 concurrent workers.\n",
      "[Parallel(n_jobs=-1)]: Done  38 tasks      | elapsed:   26.8s\n",
      "[Parallel(n_jobs=-1)]: Done  54 out of  54 | elapsed:   35.8s finished\n"
     ]
    },
    {
     "name": "stdout",
     "output_type": "stream",
     "text": [
      "Best Score : 0.7581412497918599\n",
      "Tuned recall KNN Tuned Train :  0.9931611123004829\n",
      "Tuned recall KNN Tuned Test :  0.7102936160163732\n"
     ]
    }
   ],
   "source": [
    "model_tuned_2 = GridSearchCV(estimator=pipe_KNN, param_grid=Param_KNN, cv = 3, n_jobs=-1, verbose=1)\n",
    "\n",
    "model_tuned_2.fit(X_train, y_train)\n",
    "model_tuned_2.best_score_\n",
    "model_tuned_2_1 = model_tuned_2.best_estimator_\n",
    "y_tune_2_train = model_tuned_2_1.predict(X_train)\n",
    "y_tune_2_test = model_tuned_2_1.predict(X_test)\n",
    "\n",
    "print('Best Score :',model_tuned_2.best_score_)\n",
    "print('Tuned recall KNN Tuned Train : ', recall_score(y_train, y_tune_2_train, average=\"weighted\"))\n",
    "print('Tuned recall KNN Tuned Test : ', recall_score(y_test, y_tune_2_test, average=\"weighted\"))"
   ]
  },
  {
   "cell_type": "markdown",
   "metadata": {},
   "source": [
    "**Random Forest Tuning**"
   ]
  },
  {
   "cell_type": "code",
   "execution_count": 26,
   "metadata": {},
   "outputs": [
    {
     "name": "stdout",
     "output_type": "stream",
     "text": [
      "Fitting 3 folds for each of 8 candidates, totalling 24 fits\n"
     ]
    },
    {
     "name": "stderr",
     "output_type": "stream",
     "text": [
      "[Parallel(n_jobs=-1)]: Using backend LokyBackend with 6 concurrent workers.\n",
      "[Parallel(n_jobs=-1)]: Done  24 out of  24 | elapsed:  1.1min finished\n"
     ]
    },
    {
     "name": "stdout",
     "output_type": "stream",
     "text": [
      "Best Score : 0.7851399890577797\n",
      "Tuned recall RF Tuned Train :  0.9164704203239848\n",
      "Tuned recall RF Tuned Test :  0.6973577182440766\n"
     ]
    }
   ],
   "source": [
    "model_tuned_3 = GridSearchCV(estimator=pipe_RF, param_grid=Param_RF, cv = 3, n_jobs=-1, verbose=1)\n",
    "\n",
    "model_tuned_3.fit(X_train, y_train)\n",
    "model_tuned_3.best_score_\n",
    "model_tuned_3_1 = model_tuned_3.best_estimator_\n",
    "y_tune_3_train = model_tuned_3_1.predict(X_train)\n",
    "y_tune_3_test = model_tuned_3_1.predict(X_test)\n",
    "\n",
    "print('Best Score :',model_tuned_3.best_score_)\n",
    "print('Tuned recall RF Tuned Train : ', recall_score(y_train, y_tune_3_train, average=\"weighted\"))\n",
    "print('Tuned recall RF Tuned Test : ', recall_score(y_test, y_tune_3_test, average=\"weighted\"))"
   ]
  },
  {
   "cell_type": "markdown",
   "metadata": {},
   "source": [
    "**SVC Tuning**"
   ]
  },
  {
   "cell_type": "code",
   "execution_count": 27,
   "metadata": {},
   "outputs": [
    {
     "name": "stdout",
     "output_type": "stream",
     "text": [
      "Fitting 3 folds for each of 6 candidates, totalling 18 fits\n"
     ]
    },
    {
     "name": "stderr",
     "output_type": "stream",
     "text": [
      "[Parallel(n_jobs=-1)]: Using backend LokyBackend with 6 concurrent workers.\n",
      "[Parallel(n_jobs=-1)]: Done  18 out of  18 | elapsed:    5.6s finished\n"
     ]
    },
    {
     "name": "stdout",
     "output_type": "stream",
     "text": [
      "Best Score : 0.5725992530745261\n",
      "Tuned recall SVC Tuned Train :  0.5866100525702324\n",
      "Tuned recall SVC Tuned Test :  0.8238828684631734\n"
     ]
    }
   ],
   "source": [
    "model_tuned_4 = GridSearchCV(estimator=pipe_SVC, param_grid=Param_SVC, cv = 3, n_jobs=-1, verbose=1)\n",
    "\n",
    "model_tuned_4.fit(X_train, y_train)\n",
    "model_tuned_4.best_score_\n",
    "model_tuned_4_1 = model_tuned_4.best_estimator_\n",
    "y_tune_4_train = model_tuned_4_1.predict(X_train)\n",
    "y_tune_4_test = model_tuned_4_1.predict(X_test)\n",
    "\n",
    "print('Best Score :',model_tuned_4.best_score_)\n",
    "print('Tuned recall SVC Tuned Train : ', recall_score(y_train, y_tune_4_train, average=\"weighted\"))\n",
    "print('Tuned recall SVC Tuned Test : ', recall_score(y_test, y_tune_4_test, average=\"weighted\"))"
   ]
  },
  {
   "cell_type": "markdown",
   "metadata": {},
   "source": [
    "**Evaluation Metrics Tuned**"
   ]
  },
  {
   "cell_type": "code",
   "execution_count": 36,
   "metadata": {},
   "outputs": [],
   "source": [
    "acc_Logtr_tuned = accuracy_score(y_train, y_tune_1_train)\n",
    "prec_Logtr_tuned = precision_score(y_train, y_tune_1_train)\n",
    "rec0_Logtr_tuned = recall_score(y_train, y_tune_1_train, pos_label=0)\n",
    "rec1_Logtr_tuned = recall_score(y_train, y_tune_1_train, pos_label=1)\n",
    "f1_Logtr_tuned = f1_score(y_train, y_tune_1_train)\n",
    "\n",
    "acc_KNNtr_tuned = accuracy_score(y_train, y_tune_2_train)\n",
    "prec_KNNtr_tuned = precision_score(y_train, y_tune_2_train)\n",
    "rec0_KNNtr_tuned = recall_score(y_train, y_tune_2_train, pos_label=0)\n",
    "rec1_KNNtr_tuned = recall_score(y_train, y_tune_2_train, pos_label=1)\n",
    "f1_KNNtr_tuned = f1_score(y_train, y_tune_2_train)\n",
    "\n",
    "acc_RFtr_tuned = accuracy_score(y_train, y_tune_3_train)\n",
    "prec_RFtr_tuned = precision_score(y_train, y_tune_3_train)\n",
    "rec0_RFtr_tuned = recall_score(y_train, y_tune_3_train, pos_label=0)\n",
    "rec1_RFtr_tuned = recall_score(y_train, y_tune_3_train, pos_label=1)\n",
    "f1_RFtr_tuned = f1_score(y_train, y_tune_3_train)\n",
    "\n",
    "acc_SVCtr_tuned = accuracy_score(y_train, y_tune_4_train)\n",
    "prec_SVCtr_tuned = precision_score(y_train, y_tune_4_train)\n",
    "rec0_SVCtr_tuned = recall_score(y_train, y_tune_4_train, pos_label=0)\n",
    "rec1_SVCtr_tuned = recall_score(y_train, y_tune_4_train, pos_label=1)\n",
    "f1_SVCtr_tuned = f1_score(y_train, y_tune_4_train)\n",
    "\n",
    "\n",
    "acc_Logts_tuned = accuracy_score(y_test, y_tune_1_test)\n",
    "prec_Logts_tuned = precision_score(y_test, y_tune_1_test)\n",
    "rec0_Logts_tuned = recall_score(y_test, y_tune_1_test, pos_label=0)\n",
    "rec1_Logts_tuned = recall_score(y_test, y_tune_1_test, pos_label=1)\n",
    "f1_Logts_tuned = f1_score(y_test, y_tune_1_test)\n",
    "\n",
    "acc_KNNts_tuned = accuracy_score(y_test, y_tune_2_test)\n",
    "prec_KNNts_tuned = precision_score(y_test, y_tune_2_test)\n",
    "rec0_KNNts_tuned = recall_score(y_test, y_tune_2_test, pos_label=0)\n",
    "rec1_KNNts_tuned = recall_score(y_test, y_tune_2_test, pos_label=1)\n",
    "f1_KNNts_tuned = f1_score(y_test, y_tune_2_test)\n",
    "\n",
    "acc_RFts_tuned = accuracy_score(y_test, y_tune_3_test)\n",
    "prec_RFts_tuned = precision_score(y_test, y_tune_3_test)\n",
    "rec0_RFts_tuned = recall_score(y_test, y_tune_3_test, pos_label=0)\n",
    "rec1_RFts_tuned = recall_score(y_test, y_tune_3_test, pos_label=1)\n",
    "f1_RFts_tuned = f1_score(y_test, y_tune_3_test)\n",
    "\n",
    "acc_SVCts_tuned = accuracy_score(y_test, y_tune_4_test)\n",
    "prec_SVCts_tuned = precision_score(y_test, y_tune_4_test)\n",
    "rec0_SVCts_tuned = recall_score(y_test, y_tune_4_test, pos_label=0)\n",
    "rec1_SVCts_tuned = recall_score(y_test, y_tune_4_test, pos_label=1)\n",
    "f1_SVCts_tuned = f1_score(y_test, y_tune_4_test)"
   ]
  },
  {
   "cell_type": "code",
   "execution_count": 37,
   "metadata": {},
   "outputs": [
    {
     "data": {
      "text/html": [
       "<div>\n",
       "<style scoped>\n",
       "    .dataframe tbody tr th:only-of-type {\n",
       "        vertical-align: middle;\n",
       "    }\n",
       "\n",
       "    .dataframe tbody tr th {\n",
       "        vertical-align: top;\n",
       "    }\n",
       "\n",
       "    .dataframe thead th {\n",
       "        text-align: right;\n",
       "    }\n",
       "</style>\n",
       "<table border=\"1\" class=\"dataframe\">\n",
       "  <thead>\n",
       "    <tr style=\"text-align: right;\">\n",
       "      <th></th>\n",
       "      <th>LogReg Tuned Train</th>\n",
       "      <th>LogReg Tuned Test</th>\n",
       "      <th>KNN Tuned Train</th>\n",
       "      <th>KNN Tuned Test</th>\n",
       "      <th>RF Tuned Train</th>\n",
       "      <th>RF Tuned Test</th>\n",
       "      <th>SVC Tuned Train</th>\n",
       "      <th>SVC Tuned Test</th>\n",
       "    </tr>\n",
       "  </thead>\n",
       "  <tbody>\n",
       "    <tr>\n",
       "      <th>Accuracy</th>\n",
       "      <td>0.781774</td>\n",
       "      <td>0.642492</td>\n",
       "      <td>0.993161</td>\n",
       "      <td>0.710294</td>\n",
       "      <td>0.916470</td>\n",
       "      <td>0.697358</td>\n",
       "      <td>0.586610</td>\n",
       "      <td>0.823883</td>\n",
       "    </tr>\n",
       "    <tr>\n",
       "      <th>Precision</th>\n",
       "      <td>0.703562</td>\n",
       "      <td>0.252214</td>\n",
       "      <td>0.998174</td>\n",
       "      <td>0.270566</td>\n",
       "      <td>0.871830</td>\n",
       "      <td>0.273513</td>\n",
       "      <td>0.724365</td>\n",
       "      <td>0.284477</td>\n",
       "    </tr>\n",
       "    <tr>\n",
       "      <th>Recall</th>\n",
       "      <td>0.973881</td>\n",
       "      <td>0.975594</td>\n",
       "      <td>0.988130</td>\n",
       "      <td>0.804110</td>\n",
       "      <td>0.976498</td>\n",
       "      <td>0.887176</td>\n",
       "      <td>0.279621</td>\n",
       "      <td>0.288375</td>\n",
       "    </tr>\n",
       "    <tr>\n",
       "      <th>F1 Score</th>\n",
       "      <td>0.816941</td>\n",
       "      <td>0.400809</td>\n",
       "      <td>0.993127</td>\n",
       "      <td>0.404894</td>\n",
       "      <td>0.921201</td>\n",
       "      <td>0.418121</td>\n",
       "      <td>0.403487</td>\n",
       "      <td>0.286413</td>\n",
       "    </tr>\n",
       "  </tbody>\n",
       "</table>\n",
       "</div>"
      ],
      "text/plain": [
       "           LogReg Tuned Train  LogReg Tuned Test  KNN Tuned Train  \\\n",
       "Accuracy             0.781774           0.642492         0.993161   \n",
       "Precision            0.703562           0.252214         0.998174   \n",
       "Recall               0.973881           0.975594         0.988130   \n",
       "F1 Score             0.816941           0.400809         0.993127   \n",
       "\n",
       "           KNN Tuned Test  RF Tuned Train  RF Tuned Test  SVC Tuned Train  \\\n",
       "Accuracy         0.710294        0.916470       0.697358         0.586610   \n",
       "Precision        0.270566        0.871830       0.273513         0.724365   \n",
       "Recall           0.804110        0.976498       0.887176         0.279621   \n",
       "F1 Score         0.404894        0.921201       0.418121         0.403487   \n",
       "\n",
       "           SVC Tuned Test  \n",
       "Accuracy         0.823883  \n",
       "Precision        0.284477  \n",
       "Recall           0.288375  \n",
       "F1 Score         0.286413  "
      ]
     },
     "execution_count": 37,
     "metadata": {},
     "output_type": "execute_result"
    }
   ],
   "source": [
    "data = {\n",
    "    \"LogReg Tuned Train\" : [acc_Logtr_tuned, prec_Logtr_tuned, rec1_Logtr_tuned, f1_Logtr_tuned],\n",
    "    \"LogReg Tuned Test\" : [acc_Logts_tuned, prec_Logts_tuned, rec1_Logts_tuned, f1_Logts_tuned],\n",
    "    \"KNN Tuned Train\" : [acc_KNNtr_tuned, prec_KNNtr_tuned, rec1_KNNtr_tuned, f1_KNNtr_tuned],\n",
    "    \"KNN Tuned Test\" : [acc_KNNts_tuned, prec_KNNts_tuned, rec1_KNNts_tuned, f1_KNNts_tuned],\n",
    "    \"RF Tuned Train\" : [acc_RFtr_tuned, prec_RFtr_tuned, rec1_RFtr_tuned, f1_RFtr_tuned],\n",
    "    \"RF Tuned Test\" : [acc_RFts_tuned, prec_RFts_tuned, rec1_RFts_tuned, f1_RFts_tuned],\n",
    "    \"SVC Tuned Train\" : [acc_SVCtr_tuned, prec_SVCtr_tuned, rec1_SVCtr_tuned, f1_SVCtr_tuned],\n",
    "    \"SVC Tuned Test\" : [acc_SVCts_tuned, prec_SVCts_tuned, rec1_SVCts_tuned, f1_SVCts_tuned]\n",
    "}\n",
    "pd.DataFrame(data=data, index=['Accuracy', 'Precision', 'Recall', 'F1 Score'])"
   ]
  },
  {
   "cell_type": "markdown",
   "metadata": {},
   "source": [
    "**Confusion Matrix**"
   ]
  },
  {
   "cell_type": "code",
   "execution_count": 38,
   "metadata": {},
   "outputs": [],
   "source": [
    "cmLog = confusion_matrix(y_test, y_tune_1_test, labels=[1, 0])\n",
    "dfLog = pd.DataFrame(data=cmLog, columns=['Prediction 1', 'Prediction 0'], index = ['Actual 1', 'Actual 0'])\n",
    "\n",
    "cmKNN = confusion_matrix(y_test, y_tune_2_test, labels=[1, 0])\n",
    "dfKNN = pd.DataFrame(data=cmKNN, columns=['Prediction 1', 'Prediction 0'], index = ['Actual 1', 'Actual 0'])\n",
    "\n",
    "cmRF = confusion_matrix(y_test, y_tune_3_test, labels=[1, 0])\n",
    "dfRF = pd.DataFrame(data=cmRF, columns=['Prediction 1', 'Prediction 0'], index = ['Actual 1', 'Actual 0'])\n",
    "\n",
    "cmSVC = confusion_matrix(y_test, y_tune_4_test, labels=[1, 0])\n",
    "dfSVC = pd.DataFrame(data=cmSVC, columns=['Prediction 1', 'Prediction 0'], index = ['Actual 1', 'Actual 0'])"
   ]
  },
  {
   "cell_type": "code",
   "execution_count": 39,
   "metadata": {},
   "outputs": [
    {
     "data": {
      "image/png": "[encoded data removed]",
      "text/plain": [
       "<Figure size 1296x1296 with 8 Axes>"
      ]
     },
     "metadata": {
      "needs_background": "light"
     },
     "output_type": "display_data"
    }
   ],
   "source": [
    "plt.figure(figsize=(18, 18))\n",
    "\n",
    "plt.subplot(4,4,1)\n",
    "sns.heatmap(dfLog, annot=True)\n",
    "plt.title('Logistic Regression')\n",
    "\n",
    "plt.subplot(4,4,2)\n",
    "sns.heatmap(dfKNN, annot=True)\n",
    "plt.title('K Nearest Neighbor')\n",
    "\n",
    "plt.subplot(4,4,3)\n",
    "sns.heatmap(dfRF, annot=True)\n",
    "plt.title('Random Forest Classifier')\n",
    "\n",
    "plt.subplot(4,4,4)\n",
    "sns.heatmap(dfSVC, annot=True)\n",
    "plt.title('Support Vector Classification')\n",
    "\n",
    "plt.show()"
   ]
  },
  {
   "cell_type": "code",
   "execution_count": null,
   "metadata": {},
   "outputs": [],
   "source": []
  }
 ],
 "metadata": {
  "kernelspec": {
   "display_name": "Python 3",
   "language": "python",
   "name": "python3"
  },
  "language_info": {
   "codemirror_mode": {
    "name": "ipython",
    "version": 3
   },
   "file_extension": ".py",
   "mimetype": "text/x-python",
   "name": "python",
   "nbconvert_exporter": "python",
   "pygments_lexer": "ipython3",
   "version": "3.8.3"
  }
 },
 "nbformat": 4,
 "nbformat_minor": 4
}
