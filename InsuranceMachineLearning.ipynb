{
 "cells": [
  {
   "cell_type": "markdown",
   "metadata": {},
   "source": [
    "**Machine Learning**\n",
    "\n",
    "- Classify the response based on the applicant characteristics\n",
    "\n",
    "**Conclusion**\n",
    "\n",
    "- Logistic Regression tuned is very good for insurance classifier to reach maximum potential clients, but still maintaining costs\n",
    "- Random Forest Classifier tuned is very good for insurance classifier based on cost effective"
   ]
  },
  {
   "cell_type": "code",
   "execution_count": 1,
   "metadata": {},
   "outputs": [],
   "source": [
    "import pandas as pd\n",
    "import numpy as np\n",
    "import matplotlib.pyplot as plt\n",
    "import seaborn as sns\n",
    "import warnings\n",
    "warnings.filterwarnings('ignore')\n",
    "\n",
    "%matplotlib inline"
   ]
  },
  {
   "cell_type": "code",
   "execution_count": 2,
   "metadata": {},
   "outputs": [
    {
     "data": {
      "text/html": [
       "<div>\n",
       "<style scoped>\n",
       "    .dataframe tbody tr th:only-of-type {\n",
       "        vertical-align: middle;\n",
       "    }\n",
       "\n",
       "    .dataframe tbody tr th {\n",
       "        vertical-align: top;\n",
       "    }\n",
       "\n",
       "    .dataframe thead th {\n",
       "        text-align: right;\n",
       "    }\n",
       "</style>\n",
       "<table border=\"1\" class=\"dataframe\">\n",
       "  <thead>\n",
       "    <tr style=\"text-align: right;\">\n",
       "      <th></th>\n",
       "      <th>id</th>\n",
       "      <th>Gender</th>\n",
       "      <th>Age</th>\n",
       "      <th>Driving_License</th>\n",
       "      <th>Region_Code</th>\n",
       "      <th>Previously_Insured</th>\n",
       "      <th>Vehicle_Age</th>\n",
       "      <th>Vehicle_Damage</th>\n",
       "      <th>Annual_Premium</th>\n",
       "      <th>Policy_Sales_Channel</th>\n",
       "      <th>Vintage</th>\n",
       "      <th>Response</th>\n",
       "    </tr>\n",
       "  </thead>\n",
       "  <tbody>\n",
       "    <tr>\n",
       "      <th>0</th>\n",
       "      <td>1</td>\n",
       "      <td>Male</td>\n",
       "      <td>44</td>\n",
       "      <td>1</td>\n",
       "      <td>28.0</td>\n",
       "      <td>0</td>\n",
       "      <td>&gt; 2 Years</td>\n",
       "      <td>Yes</td>\n",
       "      <td>40454.0</td>\n",
       "      <td>26.0</td>\n",
       "      <td>217</td>\n",
       "      <td>1</td>\n",
       "    </tr>\n",
       "    <tr>\n",
       "      <th>1</th>\n",
       "      <td>2</td>\n",
       "      <td>Male</td>\n",
       "      <td>76</td>\n",
       "      <td>1</td>\n",
       "      <td>3.0</td>\n",
       "      <td>0</td>\n",
       "      <td>1-2 Year</td>\n",
       "      <td>No</td>\n",
       "      <td>33536.0</td>\n",
       "      <td>26.0</td>\n",
       "      <td>183</td>\n",
       "      <td>0</td>\n",
       "    </tr>\n",
       "    <tr>\n",
       "      <th>2</th>\n",
       "      <td>3</td>\n",
       "      <td>Male</td>\n",
       "      <td>47</td>\n",
       "      <td>1</td>\n",
       "      <td>28.0</td>\n",
       "      <td>0</td>\n",
       "      <td>&gt; 2 Years</td>\n",
       "      <td>Yes</td>\n",
       "      <td>38294.0</td>\n",
       "      <td>26.0</td>\n",
       "      <td>27</td>\n",
       "      <td>1</td>\n",
       "    </tr>\n",
       "    <tr>\n",
       "      <th>3</th>\n",
       "      <td>4</td>\n",
       "      <td>Male</td>\n",
       "      <td>21</td>\n",
       "      <td>1</td>\n",
       "      <td>11.0</td>\n",
       "      <td>1</td>\n",
       "      <td>&lt; 1 Year</td>\n",
       "      <td>No</td>\n",
       "      <td>28619.0</td>\n",
       "      <td>152.0</td>\n",
       "      <td>203</td>\n",
       "      <td>0</td>\n",
       "    </tr>\n",
       "    <tr>\n",
       "      <th>4</th>\n",
       "      <td>5</td>\n",
       "      <td>Female</td>\n",
       "      <td>29</td>\n",
       "      <td>1</td>\n",
       "      <td>41.0</td>\n",
       "      <td>1</td>\n",
       "      <td>&lt; 1 Year</td>\n",
       "      <td>No</td>\n",
       "      <td>27496.0</td>\n",
       "      <td>152.0</td>\n",
       "      <td>39</td>\n",
       "      <td>0</td>\n",
       "    </tr>\n",
       "  </tbody>\n",
       "</table>\n",
       "</div>"
      ],
      "text/plain": [
       "   id  Gender  Age  Driving_License  Region_Code  Previously_Insured  \\\n",
       "0   1    Male   44                1         28.0                   0   \n",
       "1   2    Male   76                1          3.0                   0   \n",
       "2   3    Male   47                1         28.0                   0   \n",
       "3   4    Male   21                1         11.0                   1   \n",
       "4   5  Female   29                1         41.0                   1   \n",
       "\n",
       "  Vehicle_Age Vehicle_Damage  Annual_Premium  Policy_Sales_Channel  Vintage  \\\n",
       "0   > 2 Years            Yes         40454.0                  26.0      217   \n",
       "1    1-2 Year             No         33536.0                  26.0      183   \n",
       "2   > 2 Years            Yes         38294.0                  26.0       27   \n",
       "3    < 1 Year             No         28619.0                 152.0      203   \n",
       "4    < 1 Year             No         27496.0                 152.0       39   \n",
       "\n",
       "   Response  \n",
       "0         1  \n",
       "1         0  \n",
       "2         1  \n",
       "3         0  \n",
       "4         0  "
      ]
     },
     "execution_count": 2,
     "metadata": {},
     "output_type": "execute_result"
    }
   ],
   "source": [
    "df = pd.read_csv('train.csv')\n",
    "df.head()"
   ]
  },
  {
   "cell_type": "markdown",
   "metadata": {},
   "source": [
    "**Hipotesa Awal**\n",
    "\n",
    "- Gender, Age, Driving License, Region, Previously Insured, Vehicle Age, Vehicle Damage, Annual Premium, Policy Sales Chanel, Vintage, berpengaruh thd response"
   ]
  },
  {
   "cell_type": "code",
   "execution_count": 3,
   "metadata": {},
   "outputs": [],
   "source": [
    "df.drop(columns=['id'], inplace=True)"
   ]
  },
  {
   "cell_type": "markdown",
   "metadata": {},
   "source": [
    "**Encoding**"
   ]
  },
  {
   "cell_type": "code",
   "execution_count": 4,
   "metadata": {},
   "outputs": [],
   "source": [
    "df['Gender'] = df['Gender'].map({\n",
    "    'Male' : 0,\n",
    "    'Female' : 1\n",
    "})\n",
    "df['Vehicle_Age'] = df['Vehicle_Age'].map({\n",
    "    '< 1 Year' : 0,\n",
    "    '1-2 Year' : 1,\n",
    "    '> 2 Years' : 2\n",
    "})\n",
    "df['Vehicle_Damage'] = df['Vehicle_Damage'].map({\n",
    "    'No' : 0,\n",
    "    'Yes' : 1\n",
    "})"
   ]
  },
  {
   "cell_type": "markdown",
   "metadata": {},
   "source": [
    "**Splitting Imbalance Data**"
   ]
  },
  {
   "cell_type": "code",
   "execution_count": 5,
   "metadata": {},
   "outputs": [],
   "source": [
    "from sklearn.model_selection import train_test_split"
   ]
  },
  {
   "cell_type": "code",
   "execution_count": 6,
   "metadata": {},
   "outputs": [],
   "source": [
    "X = df.drop(columns='Response')\n",
    "y = df['Response']\n",
    "\n",
    "X_train, X_test, y_train, y_test = train_test_split(X, y, train_size = .90, stratify = y,random_state = 42)"
   ]
  },
  {
   "cell_type": "markdown",
   "metadata": {},
   "source": [
    "**Checking Imbalance Dataset**"
   ]
  },
  {
   "cell_type": "code",
   "execution_count": 7,
   "metadata": {},
   "outputs": [],
   "source": [
    "df_train = pd.concat([X_train, y_train], axis=1)"
   ]
  },
  {
   "cell_type": "code",
   "execution_count": 8,
   "metadata": {},
   "outputs": [
    {
     "data": {
      "text/plain": [
       "0    300959\n",
       "1     42039\n",
       "Name: Response, dtype: int64"
      ]
     },
     "execution_count": 8,
     "metadata": {},
     "output_type": "execute_result"
    }
   ],
   "source": [
    "df_train['Response'].value_counts()"
   ]
  },
  {
   "cell_type": "markdown",
   "metadata": {},
   "source": [
    "**Over Sampled**"
   ]
  },
  {
   "cell_type": "code",
   "execution_count": 9,
   "metadata": {},
   "outputs": [],
   "source": [
    "from sklearn.utils import resample"
   ]
  },
  {
   "cell_type": "code",
   "execution_count": 10,
   "metadata": {},
   "outputs": [],
   "source": [
    "response_no = df_train[df_train['Response'] == 0]\n",
    "response_yes = df_train[df_train['Response'] == 1]\n",
    "\n",
    "response_oversample = resample(response_yes,\n",
    "                           replace=True,\n",
    "                           n_samples = len(response_no),\n",
    "                           random_state = 42)"
   ]
  },
  {
   "cell_type": "code",
   "execution_count": 11,
   "metadata": {},
   "outputs": [
    {
     "data": {
      "text/plain": [
       "1    300959\n",
       "0    300959\n",
       "Name: Response, dtype: int64"
      ]
     },
     "execution_count": 11,
     "metadata": {},
     "output_type": "execute_result"
    }
   ],
   "source": [
    "df_OverSampled = pd.concat([response_no, response_oversample])\n",
    "\n",
    "df_OverSampled['Response'].value_counts()"
   ]
  },
  {
   "cell_type": "code",
   "execution_count": 12,
   "metadata": {},
   "outputs": [],
   "source": [
    "df = df_OverSampled"
   ]
  },
  {
   "cell_type": "markdown",
   "metadata": {},
   "source": [
    "**Machine Learning Preprocessing**"
   ]
  },
  {
   "cell_type": "code",
   "execution_count": 13,
   "metadata": {},
   "outputs": [],
   "source": [
    "#from sklearn.model_selection import train_test_split"
   ]
  },
  {
   "cell_type": "code",
   "execution_count": 14,
   "metadata": {},
   "outputs": [],
   "source": [
    "X_train = df.drop(columns='Response')\n",
    "y_train = df['Response']"
   ]
  },
  {
   "cell_type": "code",
   "execution_count": 15,
   "metadata": {},
   "outputs": [],
   "source": [
    "#X_train, X_test, y_train, y_test = train_test_split(X, y, train_size = .90, stratify = y,random_state = 42)"
   ]
  },
  {
   "cell_type": "markdown",
   "metadata": {},
   "source": [
    "**Machine Learning**"
   ]
  },
  {
   "cell_type": "markdown",
   "metadata": {},
   "source": [
    "**LogReg**"
   ]
  },
  {
   "cell_type": "code",
   "execution_count": 16,
   "metadata": {},
   "outputs": [
    {
     "name": "stdout",
     "output_type": "stream",
     "text": [
      "Model Log Score : 0.6609377869906327\n",
      "Model Log Predict : [0 0 0 ... 1 0 0]\n"
     ]
    }
   ],
   "source": [
    "from sklearn.linear_model import LogisticRegression\n",
    "\n",
    "modelLog = LogisticRegression()\n",
    "modelLog.fit(X_train, y_train)\n",
    "modelLog.score(X_test, y_test)\n",
    "modelLog.predict(X_test)\n",
    "\n",
    "\n",
    "print('Model Log Score :',modelLog.score(X_test, y_test))\n",
    "print('Model Log Predict :',modelLog.predict(X_test))"
   ]
  },
  {
   "cell_type": "markdown",
   "metadata": {},
   "source": [
    "**KNN**"
   ]
  },
  {
   "cell_type": "code",
   "execution_count": 17,
   "metadata": {},
   "outputs": [
    {
     "name": "stdout",
     "output_type": "stream",
     "text": [
      "Model KNN Score : 0.6795151006271155\n",
      "Model KNN Predict : [0 0 0 ... 0 0 0]\n"
     ]
    }
   ],
   "source": [
    "from sklearn.neighbors import KNeighborsClassifier\n",
    "\n",
    "modelKNN = KNeighborsClassifier()\n",
    "modelKNN.fit(X_train, y_train)\n",
    "modelKNN.score(X_test, y_test)\n",
    "modelKNN.predict(X_test)\n",
    "\n",
    "print('Model KNN Score :',modelKNN.score(X_test, y_test))\n",
    "print('Model KNN Predict :',modelKNN.predict(X_test))"
   ]
  },
  {
   "cell_type": "markdown",
   "metadata": {},
   "source": [
    "**Random Forest**"
   ]
  },
  {
   "cell_type": "code",
   "execution_count": 18,
   "metadata": {},
   "outputs": [
    {
     "name": "stdout",
     "output_type": "stream",
     "text": [
      "Model RF Score : 0.8483115111122773\n",
      "Model RF Predict : [0 0 0 ... 0 0 0]\n"
     ]
    }
   ],
   "source": [
    "from sklearn.ensemble import RandomForestClassifier\n",
    "\n",
    "modelRF = RandomForestClassifier()\n",
    "modelRF.fit(X_train, y_train)\n",
    "modelRF.score(X_test, y_test)\n",
    "modelRF.predict(X_test)\n",
    "\n",
    "print('Model RF Score :',modelRF.score(X_test, y_test))\n",
    "print('Model RF Predict :',modelRF.predict(X_test))"
   ]
  },
  {
   "cell_type": "markdown",
   "metadata": {},
   "source": [
    "**SVC**"
   ]
  },
  {
   "cell_type": "code",
   "execution_count": 19,
   "metadata": {},
   "outputs": [
    {
     "name": "stdout",
     "output_type": "stream",
     "text": [
      "Model SVC Score : 0.5784681587992968\n",
      "Model SVC Predict : [0 1 0 ... 0 0 0]\n"
     ]
    }
   ],
   "source": [
    "from sklearn.svm import SVC\n",
    "\n",
    "modelSVC = SVC(max_iter = 2000, cache_size=1000)\n",
    "modelSVC.fit(X_train, y_train)\n",
    "modelSVC.score(X_test, y_test)\n",
    "modelSVC.predict(X_test)\n",
    "\n",
    "print('Model SVC Score :',modelSVC.score(X_test, y_test))\n",
    "print('Model SVC Predict :',modelSVC.predict(X_test))"
   ]
  },
  {
   "cell_type": "markdown",
   "metadata": {},
   "source": [
    "**Metrics**"
   ]
  },
  {
   "cell_type": "code",
   "execution_count": 20,
   "metadata": {},
   "outputs": [],
   "source": [
    "from sklearn.metrics import classification_report, confusion_matrix, recall_score, precision_score, f1_score, accuracy_score"
   ]
  },
  {
   "cell_type": "code",
   "execution_count": 21,
   "metadata": {},
   "outputs": [],
   "source": [
    "y_pred_Logtr = modelLog.predict(X_train)\n",
    "acc_Logtr = accuracy_score(y_train, y_pred_Logtr)\n",
    "prec_Logtr = precision_score(y_train, y_pred_Logtr)\n",
    "rec0_Logtr = recall_score (y_train, y_pred_Logtr, pos_label=0)\n",
    "rec1_Logtr = recall_score(y_train, y_pred_Logtr, pos_label=1)\n",
    "f1_Logtr = f1_score(y_train, y_pred_Logtr)\n",
    "\n",
    "y_pred_KNNtr = modelKNN.predict(X_train)\n",
    "acc_KNNtr = accuracy_score(y_train, y_pred_KNNtr)\n",
    "prec_KNNtr = precision_score(y_train, y_pred_KNNtr)\n",
    "rec0_KNNtr = recall_score (y_train, y_pred_KNNtr, pos_label=0)\n",
    "rec1_KNNtr = recall_score(y_train, y_pred_KNNtr, pos_label=1)\n",
    "f1_KNNtr = f1_score(y_train, y_pred_KNNtr)\n",
    "\n",
    "y_pred_RFtr = modelRF.predict(X_train)\n",
    "acc_RFtr = accuracy_score(y_train, y_pred_RFtr)\n",
    "prec_RFtr = precision_score(y_train, y_pred_RFtr)\n",
    "rec0_RFtr = recall_score (y_train, y_pred_RFtr, pos_label=0)\n",
    "rec1_RFtr = recall_score(y_train, y_pred_RFtr, pos_label=1)\n",
    "f1_RFtr = f1_score(y_train, y_pred_RFtr)\n",
    "\n",
    "y_pred_SVCtr = modelSVC.predict(X_train)\n",
    "acc_SVCtr = accuracy_score(y_train, y_pred_SVCtr)\n",
    "prec_SVCtr = precision_score(y_train, y_pred_SVCtr)\n",
    "rec0_SVCtr = recall_score (y_train, y_pred_SVCtr, pos_label=0)\n",
    "rec1_SVCtr = recall_score(y_train, y_pred_SVCtr, pos_label=1)\n",
    "f1_SVCtr = f1_score(y_train, y_pred_SVCtr)\n",
    "\n",
    "\n",
    "y_pred_Logts = modelLog.predict(X_test)\n",
    "acc_Logts = accuracy_score(y_test, y_pred_Logts)\n",
    "prec_Logts = precision_score(y_test, y_pred_Logts)\n",
    "rec0_Logts = recall_score (y_test, y_pred_Logts, pos_label=0)\n",
    "rec1_Logts = recall_score(y_test, y_pred_Logts, pos_label=1)\n",
    "f1_Logts = f1_score(y_test, y_pred_Logts)\n",
    "\n",
    "y_pred_KNNts = modelKNN.predict(X_test)\n",
    "acc_KNNts = accuracy_score(y_test, y_pred_KNNts)\n",
    "prec_KNNts = precision_score(y_test, y_pred_KNNts)\n",
    "rec0_KNNts = recall_score (y_test, y_pred_KNNts, pos_label=0)\n",
    "rec1_KNNts = recall_score(y_test, y_pred_KNNts, pos_label=1)\n",
    "f1_KNNts = f1_score(y_test, y_pred_KNNts)\n",
    "\n",
    "y_pred_RFts = modelRF.predict(X_test)\n",
    "acc_RFts = accuracy_score(y_test, y_pred_RFts)\n",
    "prec_RFts = precision_score(y_test, y_pred_RFts)\n",
    "rec0_RFts = recall_score (y_test, y_pred_RFts, pos_label=0)\n",
    "rec1_RFts = recall_score(y_test, y_pred_RFts, pos_label=1)\n",
    "f1_RFts = f1_score(y_test, y_pred_RFts)\n",
    "\n",
    "y_pred_SVCts = modelSVC.predict(X_test)\n",
    "acc_SVCts = accuracy_score(y_test, y_pred_SVCts)\n",
    "prec_SVCts = precision_score(y_test, y_pred_SVCts)\n",
    "rec0_SVCts = recall_score (y_test, y_pred_SVCts, pos_label=0)\n",
    "rec1_SVCts = recall_score(y_test, y_pred_SVCts, pos_label=1)\n",
    "f1_SVCts = f1_score(y_test, y_pred_SVCts)"
   ]
  },
  {
   "cell_type": "code",
   "execution_count": 22,
   "metadata": {},
   "outputs": [
    {
     "data": {
      "text/html": [
       "<div>\n",
       "<style scoped>\n",
       "    .dataframe tbody tr th:only-of-type {\n",
       "        vertical-align: middle;\n",
       "    }\n",
       "\n",
       "    .dataframe tbody tr th {\n",
       "        vertical-align: top;\n",
       "    }\n",
       "\n",
       "    .dataframe thead th {\n",
       "        text-align: right;\n",
       "    }\n",
       "</style>\n",
       "<table border=\"1\" class=\"dataframe\">\n",
       "  <thead>\n",
       "    <tr style=\"text-align: right;\">\n",
       "      <th></th>\n",
       "      <th>LogReg Train</th>\n",
       "      <th>LogReg Test</th>\n",
       "      <th>KNN Train</th>\n",
       "      <th>KNN Test</th>\n",
       "      <th>RF Train</th>\n",
       "      <th>RF Test</th>\n",
       "      <th>SVC Train</th>\n",
       "      <th>SVC Test</th>\n",
       "    </tr>\n",
       "  </thead>\n",
       "  <tbody>\n",
       "    <tr>\n",
       "      <th>Accuracy</th>\n",
       "      <td>0.778078</td>\n",
       "      <td>0.660938</td>\n",
       "      <td>0.894258</td>\n",
       "      <td>0.679515</td>\n",
       "      <td>0.999925</td>\n",
       "      <td>0.848312</td>\n",
       "      <td>0.480477</td>\n",
       "      <td>0.578468</td>\n",
       "    </tr>\n",
       "    <tr>\n",
       "      <th>Precision</th>\n",
       "      <td>0.710698</td>\n",
       "      <td>0.257509</td>\n",
       "      <td>0.827231</td>\n",
       "      <td>0.177952</td>\n",
       "      <td>0.999851</td>\n",
       "      <td>0.344712</td>\n",
       "      <td>0.473439</td>\n",
       "      <td>0.110595</td>\n",
       "    </tr>\n",
       "    <tr>\n",
       "      <th>Recall</th>\n",
       "      <td>0.937975</td>\n",
       "      <td>0.937915</td>\n",
       "      <td>0.996674</td>\n",
       "      <td>0.446157</td>\n",
       "      <td>1.000000</td>\n",
       "      <td>0.263755</td>\n",
       "      <td>0.347984</td>\n",
       "      <td>0.346393</td>\n",
       "    </tr>\n",
       "    <tr>\n",
       "      <th>F1 Score</th>\n",
       "      <td>0.808671</td>\n",
       "      <td>0.404077</td>\n",
       "      <td>0.904082</td>\n",
       "      <td>0.254426</td>\n",
       "      <td>0.999925</td>\n",
       "      <td>0.298848</td>\n",
       "      <td>0.401131</td>\n",
       "      <td>0.167660</td>\n",
       "    </tr>\n",
       "  </tbody>\n",
       "</table>\n",
       "</div>"
      ],
      "text/plain": [
       "           LogReg Train  LogReg Test  KNN Train  KNN Test  RF Train   RF Test  \\\n",
       "Accuracy       0.778078     0.660938   0.894258  0.679515  0.999925  0.848312   \n",
       "Precision      0.710698     0.257509   0.827231  0.177952  0.999851  0.344712   \n",
       "Recall         0.937975     0.937915   0.996674  0.446157  1.000000  0.263755   \n",
       "F1 Score       0.808671     0.404077   0.904082  0.254426  0.999925  0.298848   \n",
       "\n",
       "           SVC Train  SVC Test  \n",
       "Accuracy    0.480477  0.578468  \n",
       "Precision   0.473439  0.110595  \n",
       "Recall      0.347984  0.346393  \n",
       "F1 Score    0.401131  0.167660  "
      ]
     },
     "execution_count": 22,
     "metadata": {},
     "output_type": "execute_result"
    }
   ],
   "source": [
    "data = {\n",
    "    \"LogReg Train\" : [acc_Logtr, prec_Logtr, rec1_Logtr, f1_Logtr],\n",
    "    \"LogReg Test\" : [acc_Logts, prec_Logts, rec1_Logts, f1_Logts],\n",
    "    \"KNN Train\" : [acc_KNNtr, prec_KNNtr, rec1_KNNtr, f1_KNNtr],\n",
    "    \"KNN Test\" : [acc_KNNts, prec_KNNts, rec1_KNNts, f1_KNNts],\n",
    "    \"RF Train\" : [acc_RFtr, prec_RFtr, rec1_RFtr, f1_RFtr],\n",
    "    \"RF Test\" : [acc_RFts, prec_RFts, rec1_RFts, f1_RFts],\n",
    "    \"SVC Train\" : [acc_SVCtr, prec_SVCtr, rec1_SVCtr, f1_SVCtr],\n",
    "    \"SVC Test\" : [acc_SVCts, prec_SVCts, rec1_SVCts, f1_SVCts]\n",
    "}\n",
    "pd.DataFrame(data=data, index=['Accuracy', 'Precision', 'Recall', 'F1 Score'])"
   ]
  },
  {
   "cell_type": "markdown",
   "metadata": {},
   "source": [
    "**Hyperparameter Tuning**"
   ]
  },
  {
   "cell_type": "markdown",
   "metadata": {},
   "source": [
    "Parameter"
   ]
  },
  {
   "cell_type": "code",
   "execution_count": 23,
   "metadata": {},
   "outputs": [],
   "source": [
    "Param_Log = {\n",
    "    \"penalty\" : [\"l1\",\"l2\",\"elasticnet\",\"none\"],\n",
    "    \"class_weight\" : [dict, \"balanced\"],\n",
    "    \"max_iter\" : [10,100,500],\n",
    "    \"intercept_scaling\" : [1,5,10]\n",
    "}\n",
    "\n",
    "Param_KNN = {\n",
    "    \"n_neighbors\" : [1,3,5],\n",
    "    \"weights\" : [\"distance\",\"uniform\"],\n",
    "    \"leaf_size\" : [1,5,15]\n",
    "}\n",
    "\n",
    "Param_RF = {\n",
    "    \"n_estimators\" : [50,300],\n",
    "     #\"max_depth\" : [8],\n",
    "     \"min_samples_split\" : [2,5],\n",
    "     \"min_samples_leaf\" : [1,2]\n",
    "}\n",
    "\n",
    "Param_SVC = {\n",
    "    \"max_iter\" : [2000],\n",
    "    \"kernel\" : ['poly', 'rbf', 'sigmoid'],\n",
    "    \"cache_size\" : [2000],\n",
    "}"
   ]
  },
  {
   "cell_type": "markdown",
   "metadata": {},
   "source": [
    "**Hyperparameter Tuning**"
   ]
  },
  {
   "cell_type": "code",
   "execution_count": 24,
   "metadata": {},
   "outputs": [],
   "source": [
    "from sklearn.model_selection import GridSearchCV"
   ]
  },
  {
   "cell_type": "markdown",
   "metadata": {},
   "source": [
    "**Logistic Regression Tuning**"
   ]
  },
  {
   "cell_type": "code",
   "execution_count": 25,
   "metadata": {},
   "outputs": [
    {
     "name": "stdout",
     "output_type": "stream",
     "text": [
      "Fitting 3 folds for each of 72 candidates, totalling 216 fits\n"
     ]
    },
    {
     "name": "stderr",
     "output_type": "stream",
     "text": [
      "[Parallel(n_jobs=-1)]: Using backend LokyBackend with 6 concurrent workers.\n",
      "[Parallel(n_jobs=-1)]: Done  38 tasks      | elapsed:   24.9s\n",
      "[Parallel(n_jobs=-1)]: Done 188 tasks      | elapsed:  2.1min\n",
      "[Parallel(n_jobs=-1)]: Done 216 out of 216 | elapsed:  2.6min finished\n"
     ]
    },
    {
     "name": "stdout",
     "output_type": "stream",
     "text": [
      "Best Score : 0.9616625231261876\n",
      "Tuned recall LogReg Tuned Train :  0.9546283713063906\n",
      "Tuned recall LogReg Tuned Test :  0.9548276600299722\n"
     ]
    }
   ],
   "source": [
    "model_tuned_1 = GridSearchCV(estimator=modelLog, param_grid=Param_Log, cv = 3, n_jobs=-1, verbose=1, scoring='recall')\n",
    "\n",
    "model_tuned_1.fit(X_train, y_train)\n",
    "model_tuned_1.best_score_\n",
    "model_tuned_1_1 = model_tuned_1.best_estimator_\n",
    "y_tune_1_train = model_tuned_1_1.predict(X_train)\n",
    "y_tune_1_test = model_tuned_1_1.predict(X_test)\n",
    "\n",
    "print('Best Score :',model_tuned_1.best_score_)\n",
    "print('Tuned recall LogReg Tuned Train : ', recall_score(y_train, y_tune_1_train))\n",
    "print('Tuned recall LogReg Tuned Test : ', recall_score(y_test, y_tune_1_test))"
   ]
  },
  {
   "cell_type": "markdown",
   "metadata": {},
   "source": [
    "**KNN Tuning**"
   ]
  },
  {
   "cell_type": "code",
   "execution_count": 26,
   "metadata": {},
   "outputs": [
    {
     "name": "stdout",
     "output_type": "stream",
     "text": [
      "Fitting 3 folds for each of 18 candidates, totalling 54 fits\n"
     ]
    },
    {
     "name": "stderr",
     "output_type": "stream",
     "text": [
      "[Parallel(n_jobs=-1)]: Using backend LokyBackend with 6 concurrent workers.\n",
      "[Parallel(n_jobs=-1)]: Done  38 tasks      | elapsed:  6.2min\n",
      "[Parallel(n_jobs=-1)]: Done  54 out of  54 | elapsed:  8.3min finished\n"
     ]
    },
    {
     "name": "stdout",
     "output_type": "stream",
     "text": [
      "Best Score : 0.9960193905948266\n",
      "Tuned recall KNN Tuned Train :  1.0\n",
      "Tuned recall KNN Tuned Test :  0.42110897024191823\n"
     ]
    }
   ],
   "source": [
    "model_tuned_2 = GridSearchCV(estimator=modelKNN, param_grid=Param_KNN, cv = 3, n_jobs=-1, verbose=1, scoring='recall')\n",
    "\n",
    "model_tuned_2.fit(X_train, y_train)\n",
    "model_tuned_2.best_score_\n",
    "model_tuned_2_1 = model_tuned_2.best_estimator_\n",
    "y_tune_2_train = model_tuned_2_1.predict(X_train)\n",
    "y_tune_2_test = model_tuned_2_1.predict(X_test)\n",
    "\n",
    "print('Best Score :',model_tuned_2.best_score_)\n",
    "print('Tuned recall KNN Tuned Train : ', recall_score(y_train, y_tune_2_train))\n",
    "print('Tuned recall KNN Tuned Test : ', recall_score(y_test, y_tune_2_test))"
   ]
  },
  {
   "cell_type": "markdown",
   "metadata": {},
   "source": [
    "**Random Forest Tuning**"
   ]
  },
  {
   "cell_type": "code",
   "execution_count": 27,
   "metadata": {},
   "outputs": [
    {
     "name": "stdout",
     "output_type": "stream",
     "text": [
      "Fitting 3 folds for each of 8 candidates, totalling 24 fits\n"
     ]
    },
    {
     "name": "stderr",
     "output_type": "stream",
     "text": [
      "[Parallel(n_jobs=-1)]: Using backend LokyBackend with 6 concurrent workers.\n",
      "[Parallel(n_jobs=-1)]: Done  24 out of  24 | elapsed: 17.9min finished\n"
     ]
    },
    {
     "name": "stdout",
     "output_type": "stream",
     "text": [
      "Best Score : 0.9955342749359475\n",
      "Tuned recall RF Tuned Train :  1.0\n",
      "Tuned recall RF Tuned Test :  0.26718047527296085\n"
     ]
    }
   ],
   "source": [
    "model_tuned_3 = GridSearchCV(estimator=modelRF, param_grid=Param_RF, cv = 3, n_jobs=-1, verbose=1, scoring='recall')\n",
    "\n",
    "model_tuned_3.fit(X_train, y_train)\n",
    "model_tuned_3.best_score_\n",
    "model_tuned_3_1 = model_tuned_3.best_estimator_\n",
    "y_tune_3_train = model_tuned_3_1.predict(X_train)\n",
    "y_tune_3_test = model_tuned_3_1.predict(X_test)\n",
    "\n",
    "print('Best Score :',model_tuned_3.best_score_)\n",
    "print('Tuned recall RF Tuned Train : ', recall_score(y_train, y_tune_3_train))\n",
    "print('Tuned recall RF Tuned Test : ', recall_score(y_test, y_tune_3_test))"
   ]
  },
  {
   "cell_type": "markdown",
   "metadata": {},
   "source": [
    "**SVC Tuning**"
   ]
  },
  {
   "cell_type": "code",
   "execution_count": 28,
   "metadata": {},
   "outputs": [
    {
     "name": "stdout",
     "output_type": "stream",
     "text": [
      "Fitting 3 folds for each of 3 candidates, totalling 9 fits\n"
     ]
    },
    {
     "name": "stderr",
     "output_type": "stream",
     "text": [
      "[Parallel(n_jobs=-1)]: Using backend LokyBackend with 6 concurrent workers.\n",
      "[Parallel(n_jobs=-1)]: Done   9 out of   9 | elapsed:  4.0min finished\n"
     ]
    },
    {
     "name": "stdout",
     "output_type": "stream",
     "text": [
      "Best Score : 0.9999335457212067\n",
      "Tuned recall SVC Tuned Train :  0.9999335457653701\n",
      "Tuned recall SVC Tuned Test :  0.9997859130807107\n"
     ]
    }
   ],
   "source": [
    "model_tuned_4 = GridSearchCV(estimator=modelSVC, param_grid=Param_SVC, cv = 3, n_jobs=-1, verbose=1, scoring='recall')\n",
    "\n",
    "model_tuned_4.fit(X_train, y_train)\n",
    "model_tuned_4.best_score_\n",
    "model_tuned_4_1 = model_tuned_4.best_estimator_\n",
    "y_tune_4_train = model_tuned_4_1.predict(X_train)\n",
    "y_tune_4_test = model_tuned_4_1.predict(X_test)\n",
    "\n",
    "print('Best Score :',model_tuned_4.best_score_)\n",
    "print('Tuned recall SVC Tuned Train : ', recall_score(y_train, y_tune_4_train))\n",
    "print('Tuned recall SVC Tuned Test : ', recall_score(y_test, y_tune_4_test))"
   ]
  },
  {
   "cell_type": "markdown",
   "metadata": {},
   "source": [
    "**Evaluation Metrics Tuned**"
   ]
  },
  {
   "cell_type": "code",
   "execution_count": 29,
   "metadata": {},
   "outputs": [],
   "source": [
    "acc_Logtr_tuned = accuracy_score(y_train, y_tune_1_train)\n",
    "prec_Logtr_tuned = precision_score(y_train, y_tune_1_train)\n",
    "rec0_Logtr_tuned = recall_score(y_train, y_tune_1_train, pos_label=0)\n",
    "rec1_Logtr_tuned = recall_score(y_train, y_tune_1_train, pos_label=1)\n",
    "f1_Logtr_tuned = f1_score(y_train, y_tune_1_train)\n",
    "\n",
    "acc_KNNtr_tuned = accuracy_score(y_train, y_tune_2_train)\n",
    "prec_KNNtr_tuned = precision_score(y_train, y_tune_2_train)\n",
    "rec0_KNNtr_tuned = recall_score(y_train, y_tune_2_train, pos_label=0)\n",
    "rec1_KNNtr_tuned = recall_score(y_train, y_tune_2_train, pos_label=1)\n",
    "f1_KNNtr_tuned = f1_score(y_train, y_tune_2_train)\n",
    "\n",
    "acc_RFtr_tuned = accuracy_score(y_train, y_tune_3_train)\n",
    "prec_RFtr_tuned = precision_score(y_train, y_tune_3_train)\n",
    "rec0_RFtr_tuned = recall_score(y_train, y_tune_3_train, pos_label=0)\n",
    "rec1_RFtr_tuned = recall_score(y_train, y_tune_3_train, pos_label=1)\n",
    "f1_RFtr_tuned = f1_score(y_train, y_tune_3_train)\n",
    "\n",
    "acc_SVCtr_tuned = accuracy_score(y_train, y_tune_4_train)\n",
    "prec_SVCtr_tuned = precision_score(y_train, y_tune_4_train)\n",
    "rec0_SVCtr_tuned = recall_score(y_train, y_tune_4_train, pos_label=0)\n",
    "rec1_SVCtr_tuned = recall_score(y_train, y_tune_4_train, pos_label=1)\n",
    "f1_SVCtr_tuned = f1_score(y_train, y_tune_4_train)\n",
    "\n",
    "\n",
    "acc_Logts_tuned = accuracy_score(y_test, y_tune_1_test)\n",
    "prec_Logts_tuned = precision_score(y_test, y_tune_1_test)\n",
    "rec0_Logts_tuned = recall_score(y_test, y_tune_1_test, pos_label=0)\n",
    "rec1_Logts_tuned = recall_score(y_test, y_tune_1_test, pos_label=1)\n",
    "f1_Logts_tuned = f1_score(y_test, y_tune_1_test)\n",
    "\n",
    "acc_KNNts_tuned = accuracy_score(y_test, y_tune_2_test)\n",
    "prec_KNNts_tuned = precision_score(y_test, y_tune_2_test)\n",
    "rec0_KNNts_tuned = recall_score(y_test, y_tune_2_test, pos_label=0)\n",
    "rec1_KNNts_tuned = recall_score(y_test, y_tune_2_test, pos_label=1)\n",
    "f1_KNNts_tuned = f1_score(y_test, y_tune_2_test)\n",
    "\n",
    "acc_RFts_tuned = accuracy_score(y_test, y_tune_3_test)\n",
    "prec_RFts_tuned = precision_score(y_test, y_tune_3_test)\n",
    "rec0_RFts_tuned = recall_score(y_test, y_tune_3_test, pos_label=0)\n",
    "rec1_RFts_tuned = recall_score(y_test, y_tune_3_test, pos_label=1)\n",
    "f1_RFts_tuned = f1_score(y_test, y_tune_3_test)\n",
    "\n",
    "acc_SVCts_tuned = accuracy_score(y_test, y_tune_4_test)\n",
    "prec_SVCts_tuned = precision_score(y_test, y_tune_4_test)\n",
    "rec0_SVCts_tuned = recall_score(y_test, y_tune_4_test, pos_label=0)\n",
    "rec1_SVCts_tuned = recall_score(y_test, y_tune_4_test, pos_label=1)\n",
    "f1_SVCts_tuned = f1_score(y_test, y_tune_4_test)"
   ]
  },
  {
   "cell_type": "code",
   "execution_count": 30,
   "metadata": {},
   "outputs": [
    {
     "data": {
      "text/html": [
       "<div>\n",
       "<style scoped>\n",
       "    .dataframe tbody tr th:only-of-type {\n",
       "        vertical-align: middle;\n",
       "    }\n",
       "\n",
       "    .dataframe tbody tr th {\n",
       "        vertical-align: top;\n",
       "    }\n",
       "\n",
       "    .dataframe thead th {\n",
       "        text-align: right;\n",
       "    }\n",
       "</style>\n",
       "<table border=\"1\" class=\"dataframe\">\n",
       "  <thead>\n",
       "    <tr style=\"text-align: right;\">\n",
       "      <th></th>\n",
       "      <th>LogReg Tuned Train</th>\n",
       "      <th>LogReg Tuned Test</th>\n",
       "      <th>KNN Tuned Train</th>\n",
       "      <th>KNN Tuned Test</th>\n",
       "      <th>RF Tuned Train</th>\n",
       "      <th>RF Tuned Test</th>\n",
       "      <th>SVC Tuned Train</th>\n",
       "      <th>SVC Tuned Test</th>\n",
       "    </tr>\n",
       "  </thead>\n",
       "  <tbody>\n",
       "    <tr>\n",
       "      <th>Accuracy</th>\n",
       "      <td>0.780909</td>\n",
       "      <td>0.653512</td>\n",
       "      <td>0.999925</td>\n",
       "      <td>0.693894</td>\n",
       "      <td>0.999925</td>\n",
       "      <td>0.847656</td>\n",
       "      <td>0.499983</td>\n",
       "      <td>0.122563</td>\n",
       "    </tr>\n",
       "    <tr>\n",
       "      <th>Precision</th>\n",
       "      <td>0.708476</td>\n",
       "      <td>0.255529</td>\n",
       "      <td>0.999851</td>\n",
       "      <td>0.179980</td>\n",
       "      <td>0.999851</td>\n",
       "      <td>0.343707</td>\n",
       "      <td>0.499992</td>\n",
       "      <td>0.122543</td>\n",
       "    </tr>\n",
       "    <tr>\n",
       "      <th>Recall</th>\n",
       "      <td>0.954628</td>\n",
       "      <td>0.954828</td>\n",
       "      <td>1.000000</td>\n",
       "      <td>0.421109</td>\n",
       "      <td>1.000000</td>\n",
       "      <td>0.267180</td>\n",
       "      <td>0.999934</td>\n",
       "      <td>0.999786</td>\n",
       "    </tr>\n",
       "    <tr>\n",
       "      <th>F1 Score</th>\n",
       "      <td>0.813336</td>\n",
       "      <td>0.403164</td>\n",
       "      <td>0.999925</td>\n",
       "      <td>0.252179</td>\n",
       "      <td>0.999925</td>\n",
       "      <td>0.300650</td>\n",
       "      <td>0.666645</td>\n",
       "      <td>0.218326</td>\n",
       "    </tr>\n",
       "  </tbody>\n",
       "</table>\n",
       "</div>"
      ],
      "text/plain": [
       "           LogReg Tuned Train  LogReg Tuned Test  KNN Tuned Train  \\\n",
       "Accuracy             0.780909           0.653512         0.999925   \n",
       "Precision            0.708476           0.255529         0.999851   \n",
       "Recall               0.954628           0.954828         1.000000   \n",
       "F1 Score             0.813336           0.403164         0.999925   \n",
       "\n",
       "           KNN Tuned Test  RF Tuned Train  RF Tuned Test  SVC Tuned Train  \\\n",
       "Accuracy         0.693894        0.999925       0.847656         0.499983   \n",
       "Precision        0.179980        0.999851       0.343707         0.499992   \n",
       "Recall           0.421109        1.000000       0.267180         0.999934   \n",
       "F1 Score         0.252179        0.999925       0.300650         0.666645   \n",
       "\n",
       "           SVC Tuned Test  \n",
       "Accuracy         0.122563  \n",
       "Precision        0.122543  \n",
       "Recall           0.999786  \n",
       "F1 Score         0.218326  "
      ]
     },
     "execution_count": 30,
     "metadata": {},
     "output_type": "execute_result"
    }
   ],
   "source": [
    "data = {\n",
    "    \"LogReg Tuned Train\" : [acc_Logtr_tuned, prec_Logtr_tuned, rec1_Logtr_tuned, f1_Logtr_tuned],\n",
    "    \"LogReg Tuned Test\" : [acc_Logts_tuned, prec_Logts_tuned, rec1_Logts_tuned, f1_Logts_tuned],\n",
    "    \"KNN Tuned Train\" : [acc_KNNtr_tuned, prec_KNNtr_tuned, rec1_KNNtr_tuned, f1_KNNtr_tuned],\n",
    "    \"KNN Tuned Test\" : [acc_KNNts_tuned, prec_KNNts_tuned, rec1_KNNts_tuned, f1_KNNts_tuned],\n",
    "    \"RF Tuned Train\" : [acc_RFtr_tuned, prec_RFtr_tuned, rec1_RFtr_tuned, f1_RFtr_tuned],\n",
    "    \"RF Tuned Test\" : [acc_RFts_tuned, prec_RFts_tuned, rec1_RFts_tuned, f1_RFts_tuned],\n",
    "    \"SVC Tuned Train\" : [acc_SVCtr_tuned, prec_SVCtr_tuned, rec1_SVCtr_tuned, f1_SVCtr_tuned],\n",
    "    \"SVC Tuned Test\" : [acc_SVCts_tuned, prec_SVCts_tuned, rec1_SVCts_tuned, f1_SVCts_tuned]\n",
    "}\n",
    "pd.DataFrame(data=data, index=['Accuracy', 'Precision', 'Recall', 'F1 Score'])"
   ]
  },
  {
   "cell_type": "markdown",
   "metadata": {},
   "source": [
    "**Confusion Matrix**"
   ]
  },
  {
   "cell_type": "code",
   "execution_count": 31,
   "metadata": {},
   "outputs": [],
   "source": [
    "cmLog = confusion_matrix(y_test, y_tune_1_test, labels=[1, 0])\n",
    "dfLog = pd.DataFrame(data=cmLog, columns=['Prediction 1', 'Prediction 0'], index = ['Actual 1', 'Actual 0'])\n",
    "\n",
    "cmKNN = confusion_matrix(y_test, y_tune_2_test, labels=[1, 0])\n",
    "dfKNN = pd.DataFrame(data=cmKNN, columns=['Prediction 1', 'Prediction 0'], index = ['Actual 1', 'Actual 0'])\n",
    "\n",
    "cmRF = confusion_matrix(y_test, y_tune_3_test, labels=[1, 0])\n",
    "dfRF = pd.DataFrame(data=cmRF, columns=['Prediction 1', 'Prediction 0'], index = ['Actual 1', 'Actual 0'])\n",
    "\n",
    "cmSVC = confusion_matrix(y_test, y_tune_4_test, labels=[1, 0])\n",
    "dfSVC = pd.DataFrame(data=cmSVC, columns=['Prediction 1', 'Prediction 0'], index = ['Actual 1', 'Actual 0'])"
   ]
  },
  {
   "cell_type": "code",
   "execution_count": 32,
   "metadata": {},
   "outputs": [
    {
     "data": {
      "image/png": "[encoded data removed]",
      "text/plain": [
       "<Figure size 1296x1296 with 8 Axes>"
      ]
     },
     "metadata": {
      "needs_background": "light"
     },
     "output_type": "display_data"
    }
   ],
   "source": [
    "plt.figure(figsize=(18, 18))\n",
    "\n",
    "plt.subplot(4,4,1)\n",
    "sns.heatmap(dfLog, annot=True)\n",
    "plt.title('Logistic Regression')\n",
    "\n",
    "plt.subplot(4,4,2)\n",
    "sns.heatmap(dfKNN, annot=True)\n",
    "plt.title('K Nearest Neighbor')\n",
    "\n",
    "plt.subplot(4,4,3)\n",
    "sns.heatmap(dfRF, annot=True)\n",
    "plt.title('Random Forest Classifier')\n",
    "\n",
    "plt.subplot(4,4,4)\n",
    "sns.heatmap(dfSVC, annot=True)\n",
    "plt.title('Support Vector Classification')\n",
    "\n",
    "plt.show()"
   ]
  }
 ],
 "metadata": {
  "kernelspec": {
   "display_name": "Python 3",
   "language": "python",
   "name": "python3"
  },
  "language_info": {
   "codemirror_mode": {
    "name": "ipython",
    "version": 3
   },
   "file_extension": ".py",
   "mimetype": "text/x-python",
   "name": "python",
   "nbconvert_exporter": "python",
   "pygments_lexer": "ipython3",
   "version": "3.8.3"
  }
 },
 "nbformat": 4,
 "nbformat_minor": 4
}
